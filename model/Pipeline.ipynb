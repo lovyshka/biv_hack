{
 "cells": [
  {
   "cell_type": "code",
   "execution_count": 9,
   "id": "dc11437a-359c-4e1c-92e3-1cc107846fdf",
   "metadata": {},
   "outputs": [],
   "source": [
    "import pandas as pd\n",
    "from catboost import CatBoostClassifier\n",
    "from sklearn.metrics import classification_report\n",
    "from transformers import AutoTokenizer, AutoModel\n",
    "import torch\n",
    "from tqdm import tqdm\n",
    "\n",
    "warnings.filterwarnings(\"ignore\")"
   ]
  },
  {
   "cell_type": "code",
   "execution_count": 39,
   "id": "464cde82-0dd0-4739-a806-233a3aef9a12",
   "metadata": {},
   "outputs": [],
   "source": [
    "class Pipeline:\n",
    "    def __init__(self, model_name='sentence-transformers/paraphrase-multilingual-MiniLM-L12-v2', weights=\"samaya_pizdataya_model\"):\n",
    "        self.ml_model = CatBoostClassifier()     \n",
    "        self.ml_model.load_model(weights)\n",
    "        self.tokenizer = AutoTokenizer.from_pretrained(model_name)\n",
    "        self.model = AutoModel.from_pretrained(model_name)\n",
    "\n",
    "    def read_data(self, file_path, sep=\"\\t\", header=None, batch_size=32):\n",
    "        def change_delimiter(val):\n",
    "            val = list(val)\n",
    "            val[-3] = \".\"\n",
    "            return \"\".join(val)\n",
    "\n",
    "        self.df = pd.read_csv(file_path, sep=sep, header=None)\n",
    "        if len(self.df.columns) != 4:\n",
    "            raise Exception(\"Неверное кол-во колонок\")\n",
    "            \n",
    "        self.df.columns = [\"id\", \"date\", \"summ\", \"description\"]\n",
    "        self.df.summ = self.df.summ.apply(change_delimiter)\n",
    "        self.df.date = pd.to_datetime(self.df.date, format='%d.%m.%Y')\n",
    "        self.df['clean_description'] = self.df['description'].str.lower()\n",
    "        self.df['clean_description'] = self.df['description'].str.lower()\n",
    "        \n",
    "        X_text_unlabeled = self.get_text_embeddings(self.df['clean_description'].tolist(), batch_size=batch_size)\n",
    "        self.X_unlabeled = pd.concat(\n",
    "            [pd.DataFrame(X_text_unlabeled), self.df[['summ']]], axis=1\n",
    "        )\n",
    "    def get_text_embeddings(self, texts, batch_size=32):\n",
    "        embeddings = []\n",
    "        self.model.eval()\n",
    "        with torch.no_grad():\n",
    "            for i in tqdm(range(0, len(texts), batch_size)):\n",
    "                batch_texts = texts[i:i + batch_size]\n",
    "                encoded = self.tokenizer(batch_texts, padding=True, truncation=True, return_tensors=\"pt\")\n",
    "                output = self.model(**{k: v.to(self.model.device) for k, v in encoded.items()})\n",
    "                embeddings.append(output.pooler_output.cpu())\n",
    "        return torch.cat(embeddings).numpy()\n",
    "\n",
    "    def predict(self, data_path, sep=\"\\t\", header=None, out_file_name=\"output.csv\", batch_size=32):\n",
    "        self.read_data(data_path, sep, header, batch_size=batch_size)\n",
    "        self.df[\"target\"] = self.ml_model.predict(self.X_unlabeled).flatten()\n",
    "        self.df[[\"id\", \"target\"]].to_csv(out_file_name, index=False)\n"
   ]
  },
  {
   "cell_type": "code",
   "execution_count": 41,
   "id": "9627e2b6-7750-4fc8-b070-63a92750b7ef",
   "metadata": {},
   "outputs": [],
   "source": [
    "pipeline = Pipeline()"
   ]
  },
  {
   "cell_type": "code",
   "execution_count": null,
   "id": "17ce335d-4705-49f0-aca0-70fd8ad4d107",
   "metadata": {},
   "outputs": [
    {
     "name": "stderr",
     "output_type": "stream",
     "text": [
      " 17%|███████▎                                  | 68/391 [00:16<01:15,  4.30it/s]"
     ]
    }
   ],
   "source": [
    "pipeline.predict(\"payments_main.tsv\", batch_size=64)"
   ]
  },
  {
   "cell_type": "code",
   "execution_count": null,
   "id": "e07c09b7-3ecc-4a3c-a546-83fdb14b0747",
   "metadata": {},
   "outputs": [],
   "source": []
  }
 ],
 "metadata": {
  "kernelspec": {
   "display_name": "Python 3 (ipykernel)",
   "language": "python",
   "name": "python3"
  },
  "language_info": {
   "codemirror_mode": {
    "name": "ipython",
    "version": 3
   },
   "file_extension": ".py",
   "mimetype": "text/x-python",
   "name": "python",
   "nbconvert_exporter": "python",
   "pygments_lexer": "ipython3",
   "version": "3.12.4"
  }
 },
 "nbformat": 4,
 "nbformat_minor": 5
}
