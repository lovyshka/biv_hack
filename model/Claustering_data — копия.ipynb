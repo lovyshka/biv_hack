{
 "cells": [
  {
   "cell_type": "markdown",
   "id": "2a68ddda",
   "metadata": {},
   "source": [
    "# Заметки\n",
    "\n",
    "- Получить эмбеддинги классов \n",
    "- Получить эмбеддинги `description`\n",
    "- Посчитать cos расстояние между `emb` класса и `emb` description\n",
    "- Взять среднее значение по каждому классу = `threshold` для классификации `train_df`\n",
    "\n",
    "## Всякая хуйня\n",
    "`NOT_CLASSIFIED` - метка класса, которая потенциально иожет быть оплатой по произвольным реквизитам<br>\n",
    "Классы рассматриваем в таком порядке:<br>\n",
    "<pre>['SERVICE',\n",
    " 'NON_FOOD_GOODS',\n",
    " 'LOAN',\n",
    " 'NOT_CLASSIFIED',\n",
    " 'LEASING',\n",
    " 'FOOD_GOODS',\n",
    " 'BANK_SERVICE',\n",
    " 'TAX',\n",
    " 'REALE_STATE']</pre>"
   ]
  },
  {
   "cell_type": "code",
   "execution_count": 1,
   "id": "ec16d0de",
   "metadata": {},
   "outputs": [
    {
     "name": "stdout",
     "output_type": "stream",
     "text": [
      "Claustering_data.ipynb                 navec_hudlit_v1_12B_500K_300d_100q.tar\n",
      "Telegram                               payments_main.tsv\n",
      "\u001b[34mVisual Studio Code.app\u001b[m\u001b[m                 payments_training.tsv\n",
      "\u001b[34maccounting_bt\u001b[m\u001b[m                          ~$учный семинар.docx\n",
      "\u001b[34mhacks\u001b[m\u001b[m                                  \u001b[34mВКР\u001b[m\u001b[m\n"
     ]
    }
   ],
   "source": [
    "!ls"
   ]
  },
  {
   "cell_type": "code",
   "execution_count": 3,
   "id": "06adadda-5dd4-4e9a-8b9b-e7e2ea29fc4b",
   "metadata": {},
   "outputs": [
    {
     "name": "stdout",
     "output_type": "stream",
     "text": [
      "Requirement already satisfied: transformers in /opt/anaconda3/lib/python3.12/site-packages (4.46.2)\n",
      "Requirement already satisfied: filelock in /opt/anaconda3/lib/python3.12/site-packages (from transformers) (3.13.1)\n",
      "Requirement already satisfied: huggingface-hub<1.0,>=0.23.2 in /opt/anaconda3/lib/python3.12/site-packages (from transformers) (0.26.2)\n",
      "Requirement already satisfied: numpy>=1.17 in /opt/anaconda3/lib/python3.12/site-packages (from transformers) (1.26.4)\n",
      "Requirement already satisfied: packaging>=20.0 in /opt/anaconda3/lib/python3.12/site-packages (from transformers) (23.2)\n",
      "Requirement already satisfied: pyyaml>=5.1 in /opt/anaconda3/lib/python3.12/site-packages (from transformers) (6.0.1)\n",
      "Requirement already satisfied: regex!=2019.12.17 in /opt/anaconda3/lib/python3.12/site-packages (from transformers) (2023.10.3)\n",
      "Requirement already satisfied: requests in /opt/anaconda3/lib/python3.12/site-packages (from transformers) (2.32.2)\n",
      "Requirement already satisfied: safetensors>=0.4.1 in /opt/anaconda3/lib/python3.12/site-packages (from transformers) (0.4.5)\n",
      "Requirement already satisfied: tokenizers<0.21,>=0.20 in /opt/anaconda3/lib/python3.12/site-packages (from transformers) (0.20.3)\n",
      "Requirement already satisfied: tqdm>=4.27 in /opt/anaconda3/lib/python3.12/site-packages (from transformers) (4.66.4)\n",
      "Requirement already satisfied: fsspec>=2023.5.0 in /opt/anaconda3/lib/python3.12/site-packages (from huggingface-hub<1.0,>=0.23.2->transformers) (2024.3.1)\n",
      "Requirement already satisfied: typing-extensions>=3.7.4.3 in /opt/anaconda3/lib/python3.12/site-packages (from huggingface-hub<1.0,>=0.23.2->transformers) (4.11.0)\n",
      "Requirement already satisfied: charset-normalizer<4,>=2 in /opt/anaconda3/lib/python3.12/site-packages (from requests->transformers) (2.0.4)\n",
      "Requirement already satisfied: idna<4,>=2.5 in /opt/anaconda3/lib/python3.12/site-packages (from requests->transformers) (3.7)\n",
      "Requirement already satisfied: urllib3<3,>=1.21.1 in /opt/anaconda3/lib/python3.12/site-packages (from requests->transformers) (2.2.2)\n",
      "Requirement already satisfied: certifi>=2017.4.17 in /opt/anaconda3/lib/python3.12/site-packages (from requests->transformers) (2024.8.30)\n"
     ]
    }
   ],
   "source": [
    "!python -m pip install transformers"
   ]
  },
  {
   "cell_type": "code",
   "execution_count": 5,
   "id": "8356020d",
   "metadata": {},
   "outputs": [],
   "source": [
    "import pandas as pd\n",
    "import warnings, re\n",
    "import numpy as np\n",
    "from tqdm import tqdm\n",
    "import torch\n",
    "from transformers import AutoTokenizer, AutoModel\n",
    "\n",
    "warnings.filterwarnings(\"ignore\")"
   ]
  },
  {
   "cell_type": "code",
   "execution_count": 6,
   "id": "638b271c",
   "metadata": {},
   "outputs": [],
   "source": [
    "train_df = pd.read_csv(\"payments_main.tsv\", sep=\"\\t\", header=None)\n",
    "reference_df = pd.read_csv(\"payments_training.tsv\", sep=\"\\t\", header=None)\n",
    "\n",
    "train_df.columns = [\"id\", \"date\", \"summ\", \"description\"]\n",
    "reference_df.columns = [\"id\", \"date\", \"summ\", \"description\", \"target\"]"
   ]
  },
  {
   "cell_type": "code",
   "execution_count": 7,
   "id": "40c5fe14",
   "metadata": {},
   "outputs": [
    {
     "name": "stdout",
     "output_type": "stream",
     "text": [
      "<class 'pandas.core.frame.DataFrame'>\n",
      "RangeIndex: 500 entries, 0 to 499\n",
      "Data columns (total 5 columns):\n",
      " #   Column       Non-Null Count  Dtype \n",
      "---  ------       --------------  ----- \n",
      " 0   id           500 non-null    int64 \n",
      " 1   date         500 non-null    object\n",
      " 2   summ         500 non-null    object\n",
      " 3   description  500 non-null    object\n",
      " 4   target       500 non-null    object\n",
      "dtypes: int64(1), object(4)\n",
      "memory usage: 19.7+ KB\n"
     ]
    },
    {
     "data": {
      "text/html": [
       "<div>\n",
       "<style scoped>\n",
       "    .dataframe tbody tr th:only-of-type {\n",
       "        vertical-align: middle;\n",
       "    }\n",
       "\n",
       "    .dataframe tbody tr th {\n",
       "        vertical-align: top;\n",
       "    }\n",
       "\n",
       "    .dataframe thead th {\n",
       "        text-align: right;\n",
       "    }\n",
       "</style>\n",
       "<table border=\"1\" class=\"dataframe\">\n",
       "  <thead>\n",
       "    <tr style=\"text-align: right;\">\n",
       "      <th></th>\n",
       "      <th>id</th>\n",
       "      <th>date</th>\n",
       "      <th>summ</th>\n",
       "      <th>description</th>\n",
       "      <th>target</th>\n",
       "    </tr>\n",
       "  </thead>\n",
       "  <tbody>\n",
       "    <tr>\n",
       "      <th>323</th>\n",
       "      <td>324</td>\n",
       "      <td>07.11.2024</td>\n",
       "      <td>750000-00</td>\n",
       "      <td>Оплата по дог.финансовой аренды №Е01007 от 17....</td>\n",
       "      <td>LEASING</td>\n",
       "    </tr>\n",
       "    <tr>\n",
       "      <th>190</th>\n",
       "      <td>191</td>\n",
       "      <td>07.11.2024</td>\n",
       "      <td>4120000,00</td>\n",
       "      <td>Оплата по договору процентного займа 99.291348...</td>\n",
       "      <td>LOAN</td>\n",
       "    </tr>\n",
       "    <tr>\n",
       "      <th>333</th>\n",
       "      <td>334</td>\n",
       "      <td>07.11.2024</td>\n",
       "      <td>3560000,00</td>\n",
       "      <td>Предоставление кредита по договору №189 от 12 ...</td>\n",
       "      <td>BANK_SERVICE</td>\n",
       "    </tr>\n",
       "    <tr>\n",
       "      <th>340</th>\n",
       "      <td>341</td>\n",
       "      <td>07.11.2024</td>\n",
       "      <td>9200-00</td>\n",
       "      <td>Гашение процентов за кредит по Договору №Е0027...</td>\n",
       "      <td>BANK_SERVICE</td>\n",
       "    </tr>\n",
       "    <tr>\n",
       "      <th>321</th>\n",
       "      <td>322</td>\n",
       "      <td>07.11.2024</td>\n",
       "      <td>4850.00</td>\n",
       "      <td>Оплата за Туалетная бумага Красная цена с тисн...</td>\n",
       "      <td>NON_FOOD_GOODS</td>\n",
       "    </tr>\n",
       "  </tbody>\n",
       "</table>\n",
       "</div>"
      ],
      "text/plain": [
       "      id        date        summ  \\\n",
       "323  324  07.11.2024   750000-00   \n",
       "190  191  07.11.2024  4120000,00   \n",
       "333  334  07.11.2024  3560000,00   \n",
       "340  341  07.11.2024     9200-00   \n",
       "321  322  07.11.2024     4850.00   \n",
       "\n",
       "                                           description          target  \n",
       "323  Оплата по дог.финансовой аренды №Е01007 от 17....         LEASING  \n",
       "190  Оплата по договору процентного займа 99.291348...            LOAN  \n",
       "333  Предоставление кредита по договору №189 от 12 ...    BANK_SERVICE  \n",
       "340  Гашение процентов за кредит по Договору №Е0027...    BANK_SERVICE  \n",
       "321  Оплата за Туалетная бумага Красная цена с тисн...  NON_FOOD_GOODS  "
      ]
     },
     "execution_count": 7,
     "metadata": {},
     "output_type": "execute_result"
    }
   ],
   "source": [
    "reference_df.info()\n",
    "reference_df.sample(5)"
   ]
  },
  {
   "cell_type": "code",
   "execution_count": 11,
   "id": "b381c937",
   "metadata": {},
   "outputs": [
    {
     "name": "stdout",
     "output_type": "stream",
     "text": [
      "<class 'pandas.core.frame.DataFrame'>\n",
      "RangeIndex: 25000 entries, 0 to 24999\n",
      "Data columns (total 4 columns):\n",
      " #   Column       Non-Null Count  Dtype \n",
      "---  ------       --------------  ----- \n",
      " 0   id           25000 non-null  int64 \n",
      " 1   date         25000 non-null  object\n",
      " 2   summ         25000 non-null  object\n",
      " 3   description  25000 non-null  object\n",
      "dtypes: int64(1), object(3)\n",
      "memory usage: 781.4+ KB\n"
     ]
    },
    {
     "data": {
      "text/html": [
       "<div>\n",
       "<style scoped>\n",
       "    .dataframe tbody tr th:only-of-type {\n",
       "        vertical-align: middle;\n",
       "    }\n",
       "\n",
       "    .dataframe tbody tr th {\n",
       "        vertical-align: top;\n",
       "    }\n",
       "\n",
       "    .dataframe thead th {\n",
       "        text-align: right;\n",
       "    }\n",
       "</style>\n",
       "<table border=\"1\" class=\"dataframe\">\n",
       "  <thead>\n",
       "    <tr style=\"text-align: right;\">\n",
       "      <th></th>\n",
       "      <th>id</th>\n",
       "      <th>date</th>\n",
       "      <th>summ</th>\n",
       "      <th>description</th>\n",
       "    </tr>\n",
       "  </thead>\n",
       "  <tbody>\n",
       "    <tr>\n",
       "      <th>19239</th>\n",
       "      <td>19240</td>\n",
       "      <td>07.11.2024</td>\n",
       "      <td>670.00</td>\n",
       "      <td>Оплата за Огурцы Global Village корнишоны мари...</td>\n",
       "    </tr>\n",
       "    <tr>\n",
       "      <th>4923</th>\n",
       "      <td>4924</td>\n",
       "      <td>07.11.2024</td>\n",
       "      <td>3250.00</td>\n",
       "      <td>государственная пошлина</td>\n",
       "    </tr>\n",
       "    <tr>\n",
       "      <th>9994</th>\n",
       "      <td>9995</td>\n",
       "      <td>07.11.2024</td>\n",
       "      <td>800000-00</td>\n",
       "      <td>Оплата по договору процентного займа №98-04298...</td>\n",
       "    </tr>\n",
       "    <tr>\n",
       "      <th>8238</th>\n",
       "      <td>8239</td>\n",
       "      <td>07.11.2024</td>\n",
       "      <td>4800.00</td>\n",
       "      <td>Комиссия за организацию сделки по дог. лизинга...</td>\n",
       "    </tr>\n",
       "    <tr>\n",
       "      <th>23250</th>\n",
       "      <td>23251</td>\n",
       "      <td>07.11.2024</td>\n",
       "      <td>3200000,00</td>\n",
       "      <td>Покупка продовольственных товраов</td>\n",
       "    </tr>\n",
       "  </tbody>\n",
       "</table>\n",
       "</div>"
      ],
      "text/plain": [
       "          id        date        summ  \\\n",
       "19239  19240  07.11.2024      670.00   \n",
       "4923    4924  07.11.2024     3250.00   \n",
       "9994    9995  07.11.2024   800000-00   \n",
       "8238    8239  07.11.2024     4800.00   \n",
       "23250  23251  07.11.2024  3200000,00   \n",
       "\n",
       "                                             description  \n",
       "19239  Оплата за Огурцы Global Village корнишоны мари...  \n",
       "4923                             государственная пошлина  \n",
       "9994   Оплата по договору процентного займа №98-04298...  \n",
       "8238   Комиссия за организацию сделки по дог. лизинга...  \n",
       "23250                  Покупка продовольственных товраов  "
      ]
     },
     "execution_count": 11,
     "metadata": {},
     "output_type": "execute_result"
    }
   ],
   "source": [
    "train_df.info()\n",
    "train_df.sample(5)"
   ]
  },
  {
   "cell_type": "markdown",
   "id": "49c4f1d5",
   "metadata": {},
   "source": [
    "# EDA хуйня для REF_DF"
   ]
  },
  {
   "cell_type": "code",
   "execution_count": 14,
   "id": "9ce7990d",
   "metadata": {},
   "outputs": [
    {
     "data": {
      "text/plain": [
       "<Axes: xlabel='target'>"
      ]
     },
     "execution_count": 14,
     "metadata": {},
     "output_type": "execute_result"
    },
    {
     "data": {
      "image/png": "[encoded data removed]",
      "text/plain": [
       "<Figure size 640x480 with 1 Axes>"
      ]
     },
     "metadata": {},
     "output_type": "display_data"
    }
   ],
   "source": [
    "reference_df.target.value_counts().plot(kind=\"bar\")"
   ]
  },
  {
   "cell_type": "code",
   "execution_count": 16,
   "id": "48a63a18",
   "metadata": {},
   "outputs": [],
   "source": [
    "def change_delimiter(val):\n",
    "    val = list(val)\n",
    "    val[-3] = \".\"\n",
    "    return \"\".join(val)"
   ]
  },
  {
   "cell_type": "code",
   "execution_count": 18,
   "id": "b6b79d93",
   "metadata": {},
   "outputs": [
    {
     "name": "stdout",
     "output_type": "stream",
     "text": [
      "CPU times: user 1.72 ms, sys: 647 μs, total: 2.37 ms\n",
      "Wall time: 3.04 ms\n"
     ]
    }
   ],
   "source": [
    "%%time\n",
    "reference_df.summ = reference_df.summ.apply(change_delimiter).astype(\"float32\")"
   ]
  },
  {
   "cell_type": "code",
   "execution_count": 20,
   "id": "115be977",
   "metadata": {},
   "outputs": [],
   "source": [
    "reference_df.date = pd.to_datetime(reference_df.date,\n",
    "               format='%d.%m.%Y')"
   ]
  },
  {
   "cell_type": "code",
   "execution_count": 22,
   "id": "6f1c57ef",
   "metadata": {},
   "outputs": [
    {
     "name": "stdout",
     "output_type": "stream",
     "text": [
      "<class 'pandas.core.frame.DataFrame'>\n",
      "RangeIndex: 500 entries, 0 to 499\n",
      "Data columns (total 5 columns):\n",
      " #   Column       Non-Null Count  Dtype         \n",
      "---  ------       --------------  -----         \n",
      " 0   id           500 non-null    int64         \n",
      " 1   date         500 non-null    datetime64[ns]\n",
      " 2   summ         500 non-null    float32       \n",
      " 3   description  500 non-null    object        \n",
      " 4   target       500 non-null    object        \n",
      "dtypes: datetime64[ns](1), float32(1), int64(1), object(2)\n",
      "memory usage: 17.7+ KB\n"
     ]
    }
   ],
   "source": [
    "reference_df.info()"
   ]
  },
  {
   "cell_type": "code",
   "execution_count": 24,
   "id": "4201b946",
   "metadata": {},
   "outputs": [
    {
     "data": {
      "text/plain": [
       "array(['SERVICE', 'NON_FOOD_GOODS', 'LOAN', 'NOT_CLASSIFIED', 'LEASING',\n",
       "       'FOOD_GOODS', 'BANK_SERVICE', 'TAX', 'REALE_STATE'], dtype=object)"
      ]
     },
     "execution_count": 24,
     "metadata": {},
     "output_type": "execute_result"
    }
   ],
   "source": [
    "reference_df.target.unique()"
   ]
  },
  {
   "cell_type": "code",
   "execution_count": 34,
   "id": "f1d22f41-6bb5-4bea-9ee6-54c7c2c2374c",
   "metadata": {},
   "outputs": [
    {
     "name": "stdout",
     "output_type": "stream",
     "text": [
      "CPU times: user 19.8 ms, sys: 17.3 ms, total: 37 ms\n",
      "Wall time: 36.4 ms\n"
     ]
    }
   ],
   "source": [
    "%%time\n",
    "train_df.summ = train_df.summ.apply(change_delimiter).astype(\"float32\")\n",
    "train_df.date = pd.to_datetime(train_df.date,\n",
    "               format='%d.%m.%Y')"
   ]
  },
  {
   "cell_type": "code",
   "execution_count": 30,
   "id": "0ef6af8b",
   "metadata": {},
   "outputs": [
    {
     "data": {
      "text/html": [
       "<div>\n",
       "<style scoped>\n",
       "    .dataframe tbody tr th:only-of-type {\n",
       "        vertical-align: middle;\n",
       "    }\n",
       "\n",
       "    .dataframe tbody tr th {\n",
       "        vertical-align: top;\n",
       "    }\n",
       "\n",
       "    .dataframe thead th {\n",
       "        text-align: right;\n",
       "    }\n",
       "</style>\n",
       "<table border=\"1\" class=\"dataframe\">\n",
       "  <thead>\n",
       "    <tr style=\"text-align: right;\">\n",
       "      <th></th>\n",
       "      <th>id</th>\n",
       "      <th>date</th>\n",
       "      <th>summ</th>\n",
       "      <th>description</th>\n",
       "      <th>target</th>\n",
       "      <th>target_rus</th>\n",
       "    </tr>\n",
       "  </thead>\n",
       "  <tbody>\n",
       "    <tr>\n",
       "      <th>0</th>\n",
       "      <td>1</td>\n",
       "      <td>2024-11-07</td>\n",
       "      <td>15300.0</td>\n",
       "      <td>За участие в конференции в г. Майкоп по догово...</td>\n",
       "      <td>SERVICE</td>\n",
       "      <td>Услуги</td>\n",
       "    </tr>\n",
       "    <tr>\n",
       "      <th>1</th>\n",
       "      <td>2</td>\n",
       "      <td>2024-11-07</td>\n",
       "      <td>40200.0</td>\n",
       "      <td>За оказание услуг по договору №79-02726В от 01...</td>\n",
       "      <td>SERVICE</td>\n",
       "      <td>Услуги</td>\n",
       "    </tr>\n",
       "    <tr>\n",
       "      <th>2</th>\n",
       "      <td>3</td>\n",
       "      <td>2024-11-07</td>\n",
       "      <td>1440.0</td>\n",
       "      <td>Оплата за Порошок стиральный Ariel Color autom...</td>\n",
       "      <td>NON_FOOD_GOODS</td>\n",
       "      <td>Непродовольственные товары</td>\n",
       "    </tr>\n",
       "    <tr>\n",
       "      <th>3</th>\n",
       "      <td>4</td>\n",
       "      <td>2024-11-07</td>\n",
       "      <td>240000000.0</td>\n",
       "      <td>Возврат денежных средств по договору займа №04...</td>\n",
       "      <td>LOAN</td>\n",
       "      <td>Займ</td>\n",
       "    </tr>\n",
       "    <tr>\n",
       "      <th>4</th>\n",
       "      <td>5</td>\n",
       "      <td>2024-11-07</td>\n",
       "      <td>1360000.0</td>\n",
       "      <td>Оплата Дог №452 от 13/03/2021, согл. Сч 0745-2...</td>\n",
       "      <td>NOT_CLASSIFIED</td>\n",
       "      <td>Не классифицирован</td>\n",
       "    </tr>\n",
       "  </tbody>\n",
       "</table>\n",
       "</div>"
      ],
      "text/plain": [
       "   id       date         summ  \\\n",
       "0   1 2024-11-07      15300.0   \n",
       "1   2 2024-11-07      40200.0   \n",
       "2   3 2024-11-07       1440.0   \n",
       "3   4 2024-11-07  240000000.0   \n",
       "4   5 2024-11-07    1360000.0   \n",
       "\n",
       "                                         description          target  \\\n",
       "0  За участие в конференции в г. Майкоп по догово...         SERVICE   \n",
       "1  За оказание услуг по договору №79-02726В от 01...         SERVICE   \n",
       "2  Оплата за Порошок стиральный Ariel Color autom...  NON_FOOD_GOODS   \n",
       "3  Возврат денежных средств по договору займа №04...            LOAN   \n",
       "4  Оплата Дог №452 от 13/03/2021, согл. Сч 0745-2...  NOT_CLASSIFIED   \n",
       "\n",
       "                   target_rus  \n",
       "0                      Услуги  \n",
       "1                      Услуги  \n",
       "2  Непродовольственные товары  \n",
       "3                        Займ  \n",
       "4          Не классифицирован  "
      ]
     },
     "execution_count": 30,
     "metadata": {},
     "output_type": "execute_result"
    }
   ],
   "source": [
    "reference_df.head()"
   ]
  },
  {
   "cell_type": "code",
   "execution_count": 60,
   "id": "f0ebaec8-5ba1-4643-bb23-4b55b1a275c5",
   "metadata": {},
   "outputs": [
    {
     "name": "stderr",
     "output_type": "stream",
     "text": [
      "100%|███████████████████████████████████████████| 16/16 [00:02<00:00,  7.59it/s]\n",
      "100%|█████████████████████████████████████████| 782/782 [01:30<00:00,  8.62it/s]\n"
     ]
    },
    {
     "name": "stdout",
     "output_type": "stream",
     "text": [
      "0:\tlearn: 2.0677670\ttest: 2.0639648\tbest: 2.0639648 (0)\ttotal: 211ms\tremaining: 3m 31s\n",
      "100:\tlearn: 0.1183095\ttest: 0.2972773\tbest: 0.2972773 (100)\ttotal: 7.79s\tremaining: 1m 9s\n",
      "200:\tlearn: 0.0420268\ttest: 0.2074777\tbest: 0.2074777 (200)\ttotal: 14.6s\tremaining: 57.9s\n",
      "300:\tlearn: 0.0239896\ttest: 0.1835252\tbest: 0.1835252 (300)\ttotal: 21.6s\tremaining: 50.2s\n",
      "400:\tlearn: 0.0161351\ttest: 0.1755823\tbest: 0.1755107 (399)\ttotal: 30s\tremaining: 44.8s\n",
      "500:\tlearn: 0.0123919\ttest: 0.1724288\tbest: 0.1722978 (498)\ttotal: 37.4s\tremaining: 37.2s\n",
      "600:\tlearn: 0.0098144\ttest: 0.1710356\tbest: 0.1704555 (592)\ttotal: 44.4s\tremaining: 29.5s\n",
      "700:\tlearn: 0.0082048\ttest: 0.1695632\tbest: 0.1691811 (682)\ttotal: 51.5s\tremaining: 22s\n",
      "800:\tlearn: 0.0070074\ttest: 0.1697792\tbest: 0.1691811 (682)\ttotal: 58.7s\tremaining: 14.6s\n",
      "900:\tlearn: 0.0061360\ttest: 0.1683771\tbest: 0.1679894 (880)\ttotal: 1m 5s\tremaining: 7.23s\n",
      "999:\tlearn: 0.0054518\ttest: 0.1679418\tbest: 0.1678621 (997)\ttotal: 1m 12s\tremaining: 0us\n",
      "\n",
      "bestTest = 0.1678620922\n",
      "bestIteration = 997\n",
      "\n",
      "Shrink model to first 998 iterations.\n",
      "                precision    recall  f1-score   support\n",
      "\n",
      "  BANK_SERVICE       1.00      0.92      0.96        12\n",
      "    FOOD_GOODS       0.88      1.00      0.93        14\n",
      "       LEASING       1.00      1.00      1.00         8\n",
      "          LOAN       1.00      1.00      1.00        11\n",
      "NON_FOOD_GOODS       0.94      0.89      0.91        18\n",
      "NOT_CLASSIFIED       1.00      0.75      0.86         4\n",
      "   REALE_STATE       0.80      1.00      0.89         4\n",
      "       SERVICE       1.00      1.00      1.00        16\n",
      "           TAX       1.00      1.00      1.00        13\n",
      "\n",
      "      accuracy                           0.96       100\n",
      "     macro avg       0.96      0.95      0.95       100\n",
      "  weighted avg       0.96      0.96      0.96       100\n",
      "\n"
     ]
    }
   ],
   "source": [
    "import pandas as pd\n",
    "from sklearn.model_selection import train_test_split\n",
    "from catboost import CatBoostClassifier\n",
    "from sklearn.metrics import classification_report\n",
    "from transformers import AutoTokenizer, AutoModel\n",
    "import torch\n",
    "from tqdm import tqdm\n",
    "\n",
    "\n",
    "MODEL_NAME = 'sentence-transformers/paraphrase-multilingual-MiniLM-L12-v2'\n",
    "tokenizer = AutoTokenizer.from_pretrained(MODEL_NAME)\n",
    "model = AutoModel.from_pretrained(MODEL_NAME)\n",
    "\n",
    "def get_text_embeddings(texts, tokenizer, model, batch_size=32):\n",
    "    \"\"\"\n",
    "    Генерация текстовых эмбеддингов с использованием Sentence-BERT.\n",
    "    \"\"\"\n",
    "    embeddings = []\n",
    "    model.eval()\n",
    "    with torch.no_grad():\n",
    "        for i in tqdm(range(0, len(texts), batch_size)):\n",
    "            batch_texts = texts[i:i + batch_size]\n",
    "            encoded = tokenizer(batch_texts, padding=True, truncation=True, return_tensors=\"pt\")\n",
    "            output = model(**{k: v.to(model.device) for k, v in encoded.items()})\n",
    "            embeddings.append(output.pooler_output.cpu())\n",
    "    return torch.cat(embeddings).numpy()\n",
    "\n",
    "reference_df['clean_description'] = reference_df['description'].str.lower()\n",
    "train_df['clean_description'] = train_df['description'].str.lower()\n",
    "\n",
    "X_text_labeled = get_text_embeddings(reference_df['clean_description'].tolist(), tokenizer, model)\n",
    "X_text_unlabeled = get_text_embeddings(train_df['clean_description'].tolist(), tokenizer, model)\n",
    "\n",
    "X_labeled = pd.concat(\n",
    "    [pd.DataFrame(X_text_labeled), reference_df[['summ']]], axis=1\n",
    ")\n",
    "y_labeled = reference_df['target']  # Замени 'label' на колонку с разметкой\n",
    "\n",
    "X_unlabeled = pd.concat(\n",
    "    [pd.DataFrame(X_text_unlabeled), train_df[['summ']]], axis=1\n",
    ")\n",
    "\n",
    "X_train, X_val, y_train, y_val = train_test_split(X_labeled, y_labeled, test_size=0.2, random_state=42)\n",
    "\n",
    "model = CatBoostClassifier(iterations=1000, depth=6, learning_rate=0.1, verbose=100)\n",
    "model.fit(X_train, y_train, eval_set=(X_val, y_val))\n",
    "\n",
    "y_pred = model.predict(X_val)\n",
    "print(classification_report(y_val, y_pred))"
   ]
  },
  {
   "cell_type": "code",
   "execution_count": 62,
   "id": "0bddaa2c-e050-4ea4-8fc7-c7dfe138f784",
   "metadata": {},
   "outputs": [
    {
     "data": {
      "text/plain": [
       "array(['SERVICE', 'SERVICE', 'TAX', ..., 'REALE_STATE', 'TAX',\n",
       "       'FOOD_GOODS'], dtype=object)"
      ]
     },
     "execution_count": 62,
     "metadata": {},
     "output_type": "execute_result"
    }
   ],
   "source": [
    "preds = model.predict(X_unlabeled).flatten()\n",
    "preds"
   ]
  },
  {
   "cell_type": "code",
   "execution_count": 64,
   "id": "bf740565-397a-42f3-8cf5-a20c8c223557",
   "metadata": {},
   "outputs": [],
   "source": [
    "# Шаг 6: Разметка неразмеченного датасета\n",
    "train_df['target'] = preds\n",
    "\n",
    "# Сохранение результатов\n",
    "train_df[[\"id\", \"target\"]].to_csv('unlabeled_dataset_with_predictions.csv', index=False)"
   ]
  },
  {
   "cell_type": "code",
   "execution_count": null,
   "id": "87ea8208-b813-48d3-9bfc-848585596552",
   "metadata": {},
   "outputs": [],
   "source": []
  }
 ],
 "metadata": {
  "kernelspec": {
   "display_name": "Python 3 (ipykernel)",
   "language": "python",
   "name": "python3"
  },
  "language_info": {
   "codemirror_mode": {
    "name": "ipython",
    "version": 3
   },
   "file_extension": ".py",
   "mimetype": "text/x-python",
   "name": "python",
   "nbconvert_exporter": "python",
   "pygments_lexer": "ipython3",
   "version": "3.12.4"
  }
 },
 "nbformat": 4,
 "nbformat_minor": 5
}
